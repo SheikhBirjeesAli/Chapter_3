{
 "cells": [
  {
   "cell_type": "markdown",
   "metadata": {},
   "source": [
    "# Chapter 3 Problem's Solution:"
   ]
  },
  {
   "cell_type": "markdown",
   "metadata": {},
   "source": [
    "## Practice Problem 3.1 >"
   ]
  },
  {
   "cell_type": "code",
   "execution_count": 60,
   "metadata": {},
   "outputs": [
    {
     "name": "stdout",
     "output_type": "stream",
     "text": [
      "Enter tmperature in Fahrenheit: 50\n",
      "Temperature in Celsius:  10.0\n"
     ]
    }
   ],
   "source": [
    "df = float(input(\"Enter tmperature in Fahrenheit: \"))\n",
    "dc = (5/9)*(df-32)\n",
    "print(\"Temperature in Celsius: \",dc)"
   ]
  },
  {
   "cell_type": "markdown",
   "metadata": {},
   "source": [
    "## Practice Problem 3.2 >"
   ]
  },
  {
   "cell_type": "code",
   "execution_count": 61,
   "metadata": {},
   "outputs": [
    {
     "name": "stdout",
     "output_type": "stream",
     "text": [
      "You can get your pension benefits\n",
      "One of the Top 5 baseball Players, ever!\n",
      "You are dead...\n",
      "I can escape.\n"
     ]
    }
   ],
   "source": [
    "age = 63\n",
    "name = 'Gehrig'\n",
    "lst = ['Musial','Aaraon','Williams','Gehrig','Ruth']\n",
    "hits = 11\n",
    "shield = 0\n",
    "north = 1\n",
    "east = 0\n",
    "west = 0\n",
    "south = 0\n",
    "\n",
    "if age > 62:\n",
    "    print(\"You can get your pension benefits\")\n",
    "if name in lst:\n",
    "    print(\"One of the Top 5 baseball Players, ever!\")\n",
    "if hits > 10 and shield == 0:\n",
    "    print(\"You are dead...\")\n",
    "if north or south or east or west:\n",
    "    print(\"I can escape.\")"
   ]
  },
  {
   "cell_type": "markdown",
   "metadata": {},
   "source": [
    "## Practice Problem 3.3 >"
   ]
  },
  {
   "cell_type": "code",
   "execution_count": 63,
   "metadata": {},
   "outputs": [
    {
     "name": "stdout",
     "output_type": "stream",
     "text": [
      "Definitely not a leep year\n",
      "Better luck next time...\n"
     ]
    }
   ],
   "source": [
    "year = 2019\n",
    "ticket = 1234\n",
    "lottery = 111\n",
    "if year % 4 == 0:\n",
    "    print('Could be a leep year')\n",
    "else:\n",
    "    print('Definitely not a leep year')\n",
    "if ticket == lottery:\n",
    "    print(\"You Won!\")\n",
    "else:\n",
    "    print(\"Better luck next time...\")"
   ]
  },
  {
   "cell_type": "markdown",
   "metadata": {},
   "source": [
    "## Practice Problem 3.4 >\n"
   ]
  },
  {
   "cell_type": "code",
   "execution_count": 64,
   "metadata": {},
   "outputs": [
    {
     "name": "stdout",
     "output_type": "stream",
     "text": [
      "Login: sue\n",
      "You are in!\n",
      "done.\n"
     ]
    }
   ],
   "source": [
    "users = ['joe','sue']\n",
    "id = input(\"Login: \")\n",
    "if id in users:\n",
    "    print(\"You are in!\")\n",
    "else:\n",
    "    print(\"User unknown.\")\n",
    "print(\"done.\")"
   ]
  },
  {
   "cell_type": "markdown",
   "metadata": {},
   "source": [
    "## Practice Problem 3.5 >"
   ]
  },
  {
   "cell_type": "code",
   "execution_count": 65,
   "metadata": {},
   "outputs": [
    {
     "name": "stdout",
     "output_type": "stream",
     "text": [
      "Enter word list: ['you','moon']\n",
      "moon\n"
     ]
    }
   ],
   "source": [
    "wordlst = eval(input(\"Enter word list: \"))\n",
    "for word in wordlst:\n",
    "    if len(word) == 4:\n",
    "        print(word)\n",
    "        "
   ]
  },
  {
   "cell_type": "markdown",
   "metadata": {},
   "source": [
    "## Practice Problem 3.6 >"
   ]
  },
  {
   "cell_type": "code",
   "execution_count": 66,
   "metadata": {},
   "outputs": [
    {
     "name": "stdout",
     "output_type": "stream",
     "text": [
      "0\n",
      "1\n",
      "2\n",
      "3\n",
      "4\n",
      "5\n",
      "6\n",
      "7\n",
      "8\n",
      "9\n",
      "0\n",
      "1\n"
     ]
    }
   ],
   "source": [
    "for i in range(10):\n",
    "    print(i)\n",
    "for i in range(2):\n",
    "    print(i)"
   ]
  },
  {
   "cell_type": "markdown",
   "metadata": {},
   "source": [
    "## Practice Problem 3.7 >"
   ]
  },
  {
   "cell_type": "code",
   "execution_count": 67,
   "metadata": {
    "scrolled": true
   },
   "outputs": [
    {
     "name": "stdout",
     "output_type": "stream",
     "text": [
      "3\n",
      "4\n",
      "5\n",
      "6\n",
      "7\n",
      "8\n",
      "9\n",
      "10\n",
      "11\n",
      "12\n"
     ]
    }
   ],
   "source": [
    "for i in range(3,13):\n",
    "    print(i)"
   ]
  },
  {
   "cell_type": "code",
   "execution_count": 68,
   "metadata": {
    "scrolled": true
   },
   "outputs": [
    {
     "name": "stdout",
     "output_type": "stream",
     "text": [
      "0\n",
      "2\n",
      "4\n",
      "6\n",
      "8\n"
     ]
    }
   ],
   "source": [
    "for i in range(0,10,2):\n",
    "    print(i)"
   ]
  },
  {
   "cell_type": "code",
   "execution_count": 69,
   "metadata": {
    "scrolled": true
   },
   "outputs": [
    {
     "name": "stdout",
     "output_type": "stream",
     "text": [
      "0\n",
      "3\n",
      "6\n",
      "9\n",
      "12\n",
      "15\n",
      "18\n",
      "21\n"
     ]
    }
   ],
   "source": [
    "for i in range(0,24,3):\n",
    "    print(i)"
   ]
  },
  {
   "cell_type": "code",
   "execution_count": 70,
   "metadata": {},
   "outputs": [
    {
     "name": "stdout",
     "output_type": "stream",
     "text": [
      "3\n",
      "8\n"
     ]
    }
   ],
   "source": [
    "for i in range(3,12,5):\n",
    "    print(i)"
   ]
  },
  {
   "cell_type": "markdown",
   "metadata": {},
   "source": [
    "## Practice Problem 3.8 >"
   ]
  },
  {
   "cell_type": "code",
   "execution_count": 71,
   "metadata": {},
   "outputs": [
    {
     "data": {
      "text/plain": [
       "31.41592653589793"
      ]
     },
     "execution_count": 71,
     "metadata": {},
     "output_type": "execute_result"
    }
   ],
   "source": [
    "from math import pi\n",
    "def perimeter(r):\n",
    "    return 2*pi*r\n",
    "perimeter(5)"
   ]
  },
  {
   "cell_type": "markdown",
   "metadata": {},
   "source": [
    "## Practice Problem 3.9 >"
   ]
  },
  {
   "cell_type": "code",
   "execution_count": 72,
   "metadata": {},
   "outputs": [
    {
     "data": {
      "text/plain": [
       "5.0"
      ]
     },
     "execution_count": 72,
     "metadata": {},
     "output_type": "execute_result"
    }
   ],
   "source": [
    "def average(x,y):\n",
    "    'returns average of x and y'\n",
    "    return (x+y)/2\n",
    "average(2,8)"
   ]
  },
  {
   "cell_type": "markdown",
   "metadata": {},
   "source": [
    "## Practice Problem 3.10 >"
   ]
  },
  {
   "cell_type": "code",
   "execution_count": 74,
   "metadata": {},
   "outputs": [
    {
     "data": {
      "text/plain": [
       "False"
      ]
     },
     "execution_count": 74,
     "metadata": {},
     "output_type": "execute_result"
    }
   ],
   "source": [
    "def novowels(s):\n",
    "    s = s.casefold()\n",
    "    for i in s:\n",
    "        if i in \"aeiou\":\n",
    "            return False\n",
    "    return True\n",
    "novowels('king')"
   ]
  },
  {
   "cell_type": "markdown",
   "metadata": {},
   "source": [
    "## Practice Problem 3.11 >"
   ]
  },
  {
   "cell_type": "code",
   "execution_count": 75,
   "metadata": {},
   "outputs": [
    {
     "data": {
      "text/plain": [
       "False"
      ]
     },
     "execution_count": 75,
     "metadata": {},
     "output_type": "execute_result"
    }
   ],
   "source": [
    "def all_even(n_lst):\n",
    "    for num in n_lst:\n",
    "        if num%2 != 0:\n",
    "            return False\n",
    "    return True\n",
    "all_even([1,2,3,4,5])"
   ]
  },
  {
   "cell_type": "markdown",
   "metadata": {},
   "source": [
    "## Practice Problem 3.12 >"
   ]
  },
  {
   "cell_type": "code",
   "execution_count": 80,
   "metadata": {},
   "outputs": [
    {
     "name": "stdout",
     "output_type": "stream",
     "text": [
      "-1\n"
     ]
    }
   ],
   "source": [
    "def negatives(n_lst):\n",
    "    'prints the negative number in list lst'\n",
    "    for i in n_lst:\n",
    "        if i < 0:\n",
    "            print(i)\n",
    "negatives([1,2,-1,5])"
   ]
  },
  {
   "cell_type": "markdown",
   "metadata": {},
   "source": [
    "## Practice Problem 3.13 >"
   ]
  },
  {
   "cell_type": "code",
   "execution_count": 83,
   "metadata": {},
   "outputs": [
    {
     "name": "stdout",
     "output_type": "stream",
     "text": [
      "Help on function negatives in module __main__:\n",
      "\n",
      "negatives(n_lst)\n",
      "    prints the negative number in list lst\n",
      "\n",
      "Help on function average in module __main__:\n",
      "\n",
      "average(x, y)\n",
      "\n"
     ]
    }
   ],
   "source": [
    "help(negatives)\n",
    "help(average)"
   ]
  },
  {
   "cell_type": "markdown",
   "metadata": {},
   "source": [
    "## Practice Problem 3.14 >"
   ]
  },
  {
   "cell_type": "code",
   "execution_count": 84,
   "metadata": {},
   "outputs": [
    {
     "data": {
      "text/plain": [
       "'when variable a is assigned by 3, a is bound to the new object 3. Variable b is still bound to list [5,6,7]'"
      ]
     },
     "execution_count": 84,
     "metadata": {},
     "output_type": "execute_result"
    }
   ],
   "source": [
    "'when variable a is assigned by 3, a is bound to the new object 3. Variable b is still bound to list [5,6,7]'"
   ]
  },
  {
   "cell_type": "markdown",
   "metadata": {},
   "source": [
    "## Practice Problem 3.15 >"
   ]
  },
  {
   "cell_type": "code",
   "execution_count": 86,
   "metadata": {},
   "outputs": [
    {
     "name": "stdout",
     "output_type": "stream",
     "text": [
      "['sarah', 'clare', 'ava']\n"
     ]
    }
   ],
   "source": [
    "team = ['ava','clare','sarah']\n",
    "team[0], team[-1] = team[-1], team[0]\n",
    "print(team)"
   ]
  },
  {
   "cell_type": "markdown",
   "metadata": {},
   "source": [
    "## Practice Problem 3.16 >"
   ]
  },
  {
   "cell_type": "code",
   "execution_count": 87,
   "metadata": {},
   "outputs": [
    {
     "name": "stdout",
     "output_type": "stream",
     "text": [
      "['apples', 'sugar', 'butter', 'flour']\n"
     ]
    }
   ],
   "source": [
    "def swapFL(lst):\n",
    "    lst[0], lst[-1] = lst[-1], lst[0]\n",
    "    print(lst)\n",
    "    return \n",
    "swapFL(['flour','sugar','butter','apples']) "
   ]
  },
  {
   "cell_type": "markdown",
   "metadata": {},
   "source": [
    "# Chapter 3 Excercises Solution:"
   ]
  },
  {
   "cell_type": "markdown",
   "metadata": {},
   "source": [
    "## Excercise 3.17 >"
   ]
  },
  {
   "cell_type": "code",
   "execution_count": 10,
   "metadata": {},
   "outputs": [
    {
     "name": "stdout",
     "output_type": "stream",
     "text": [
      "7\n",
      "0\n",
      "hello world!\n",
      "2\n"
     ]
    },
    {
     "ename": "SyntaxError",
     "evalue": "invalid syntax (<string>, line 1)",
     "output_type": "error",
     "traceback": [
      "Traceback \u001b[1;36m(most recent call last)\u001b[0m:\n",
      "  File \u001b[0;32m\"c:\\Users\\King\\Anaconda3king\\lib\\site-packages\\IPython\\core\\interactiveshell.py\"\u001b[0m, line \u001b[0;32m3325\u001b[0m, in \u001b[0;35mrun_code\u001b[0m\n    exec(code_obj, self.user_global_ns, self.user_ns)\n",
      "\u001b[1;36m  File \u001b[1;32m\"<ipython-input-10-2d83b1f1751b>\"\u001b[1;36m, line \u001b[1;32m5\u001b[1;36m, in \u001b[1;35m<module>\u001b[1;36m\u001b[0m\n\u001b[1;33m    print(eval(\"x = 5\")) # This statement occur error because we can't define variable in eval()\u001b[0m\n",
      "\u001b[1;36m  File \u001b[1;32m\"<string>\"\u001b[1;36m, line \u001b[1;32m1\u001b[0m\n\u001b[1;33m    x = 5\u001b[0m\n\u001b[1;37m      ^\u001b[0m\n\u001b[1;31mSyntaxError\u001b[0m\u001b[1;31m:\u001b[0m invalid syntax\n"
     ]
    }
   ],
   "source": [
    "print(eval('2*3+1'))\n",
    "print(eval(\"0\"))\n",
    "print(eval(\"'hello'+' '+'world!'\"))\n",
    "print(eval(\"'ASCII'.count('I')\"))\n",
    "print(eval(\"x = 5\")) # This statement occur error because we can't define variable in eval()"
   ]
  },
  {
   "cell_type": "markdown",
   "metadata": {},
   "source": [
    "## Excercise 3.18 >"
   ]
  },
  {
   "cell_type": "code",
   "execution_count": 11,
   "metadata": {},
   "outputs": [
    {
     "name": "stdout",
     "output_type": "stream",
     "text": [
      "OK\n",
      "OK\n"
     ]
    }
   ],
   "source": [
    "a, b, c = 3, 4, 5\n",
    "if a < b:\n",
    "    print(\"OK\")\n",
    "if c < b:\n",
    "    print(\"OK\")\n",
    "if (a+b) == c:\n",
    "    print(\"OK\")\n",
    "if ((a**2)+(b**2)) == (c**2):\n",
    "    print(\"OK\")"
   ]
  },
  {
   "cell_type": "markdown",
   "metadata": {},
   "source": [
    "## Excercise 3.19 >"
   ]
  },
  {
   "cell_type": "code",
   "execution_count": 12,
   "metadata": {},
   "outputs": [
    {
     "name": "stdout",
     "output_type": "stream",
     "text": [
      "OK\n",
      "NOT OK\n",
      "NOT OK\n",
      "OK\n"
     ]
    }
   ],
   "source": [
    "a, b, c = 3, 4, 5\n",
    "if a < b:\n",
    "    print(\"OK\")\n",
    "else:\n",
    "    print(\"NOT OK\")\n",
    "if c < b:\n",
    "    print(\"OK\")\n",
    "else:\n",
    "    print(\"NOT OK\")\n",
    "if (a+b) == c:\n",
    "    print(\"OK\")\n",
    "else:\n",
    "    print(\"NOT OK\")\n",
    "if ((a**2)+(b**2)) == (c**2):\n",
    "    print(\"OK\")\n",
    "else:\n",
    "    print(\"NOT OK\")"
   ]
  },
  {
   "cell_type": "markdown",
   "metadata": {},
   "source": [
    "## Excercise 3.20 >"
   ]
  },
  {
   "cell_type": "code",
   "execution_count": 13,
   "metadata": {},
   "outputs": [
    {
     "name": "stdout",
     "output_type": "stream",
     "text": [
      "Jan\n",
      "Feb\n",
      "Mar\n"
     ]
    }
   ],
   "source": [
    "lst = ['January','February','March']\n",
    "for string in lst:\n",
    "    print(string[:3])"
   ]
  },
  {
   "cell_type": "markdown",
   "metadata": {},
   "source": [
    "## Excercise 3.21 >"
   ]
  },
  {
   "cell_type": "code",
   "execution_count": 14,
   "metadata": {},
   "outputs": [
    {
     "name": "stdout",
     "output_type": "stream",
     "text": [
      "2\n",
      "4\n",
      "6\n",
      "8\n"
     ]
    }
   ],
   "source": [
    "lst = [2,3,4,5,6,7,8,9]\n",
    "for num in lst:\n",
    "    if num%2==0:\n",
    "        print(num)"
   ]
  },
  {
   "cell_type": "markdown",
   "metadata": {},
   "source": [
    "## Excercise 3.22 >"
   ]
  },
  {
   "cell_type": "code",
   "execution_count": 15,
   "metadata": {},
   "outputs": [
    {
     "name": "stdout",
     "output_type": "stream",
     "text": [
      "4\n",
      "8\n"
     ]
    }
   ],
   "source": [
    "lst = [2,3,4,5,6,7,8,9]\n",
    "for num in lst:\n",
    "    if (num**2)%8 == 0:\n",
    "        print(num)"
   ]
  },
  {
   "cell_type": "markdown",
   "metadata": {},
   "source": [
    "## Excercise 3.23 >"
   ]
  },
  {
   "cell_type": "code",
   "execution_count": 16,
   "metadata": {},
   "outputs": [
    {
     "name": "stdout",
     "output_type": "stream",
     "text": [
      "0 1 \n",
      "0 \n",
      "3 4 5 6 \n",
      "1 \n",
      "0 3 \n",
      "5 9 13 17 21 \n"
     ]
    }
   ],
   "source": [
    "for num in range(0,2):\n",
    "    print(num,end=\" \")\n",
    "print()\n",
    "for num in range(0,1):\n",
    "    print(num,end=\" \")\n",
    "print()\n",
    "for num in range(3,7):\n",
    "    print(num,end=\" \")\n",
    "print()\n",
    "for num in range(1,2):\n",
    "    print(num,end=\" \")\n",
    "print()\n",
    "for num in range(0,4,3):\n",
    "    print(num,end=\" \")\n",
    "print()\n",
    "for num in range(5,22,4):\n",
    "    print(num,end=\" \")\n",
    "print()"
   ]
  },
  {
   "cell_type": "markdown",
   "metadata": {},
   "source": [
    "# Excercise 3.24 >"
   ]
  },
  {
   "cell_type": "code",
   "execution_count": 17,
   "metadata": {},
   "outputs": [
    {
     "name": "stdout",
     "output_type": "stream",
     "text": [
      "Enter List of words: ['cia','secret','mi6','isi','secret']\n",
      "cia\n",
      "mi6\n",
      "isi\n"
     ]
    }
   ],
   "source": [
    "lst = ['cia','secret','mi6','isi','secret']\n",
    "lst = eval(input(\"Enter List of words: \"))\n",
    "for ch in lst:\n",
    "    if ch != 'secret':\n",
    "        print(ch)"
   ]
  },
  {
   "cell_type": "markdown",
   "metadata": {},
   "source": [
    "## Excercise 3.25 >"
   ]
  },
  {
   "cell_type": "code",
   "execution_count": 18,
   "metadata": {},
   "outputs": [
    {
     "name": "stdout",
     "output_type": "stream",
     "text": [
      "Enter list: ['Ellie','Steve','Sam','Owen','Gavin']\n",
      "Ellie\n",
      "Gavin\n"
     ]
    }
   ],
   "source": [
    "lst = eval(input(\"Enter list: \"))\n",
    "for ch in lst:\n",
    "    if ch < 'N':\n",
    "        print(ch)"
   ]
  },
  {
   "cell_type": "markdown",
   "metadata": {},
   "source": [
    "## Excercise 3.26 >"
   ]
  },
  {
   "cell_type": "code",
   "execution_count": 19,
   "metadata": {},
   "outputs": [
    {
     "name": "stdout",
     "output_type": "stream",
     "text": [
      "Enter a list: [3,5,6,9]\n",
      "The first element is: 3\n",
      "The first element is: 9\n"
     ]
    }
   ],
   "source": [
    "nonempty = eval(input('Enter a list: '))\n",
    "print('The first element is:',nonempty[0])\n",
    "print('The first element is:',nonempty[-1])"
   ]
  },
  {
   "cell_type": "markdown",
   "metadata": {},
   "source": [
    "## Excercise 3.27 >"
   ]
  },
  {
   "cell_type": "code",
   "execution_count": 20,
   "metadata": {},
   "outputs": [
    {
     "name": "stdout",
     "output_type": "stream",
     "text": [
      "Enter n: 5\n",
      "0\n",
      "5\n",
      "10\n",
      "15\n"
     ]
    }
   ],
   "source": [
    "n = eval(input(\"Enter n: \"))\n",
    "x = 0\n",
    "for i in range(4):\n",
    "    print(n*x)\n",
    "    x+=1"
   ]
  },
  {
   "cell_type": "markdown",
   "metadata": {},
   "source": [
    "## Excercise 3.28 >"
   ]
  },
  {
   "cell_type": "code",
   "execution_count": 21,
   "metadata": {},
   "outputs": [
    {
     "name": "stdout",
     "output_type": "stream",
     "text": [
      "Enter n: 3\n",
      "0\n",
      "1\n",
      "4\n"
     ]
    }
   ],
   "source": [
    "n = eval(input(\"Enter n: \"))\n",
    "x = 0\n",
    "for i in range(n):\n",
    "    print(x**2)\n",
    "    x+=1"
   ]
  },
  {
   "cell_type": "markdown",
   "metadata": {},
   "source": [
    "## Excercise 3.29 >"
   ]
  },
  {
   "cell_type": "code",
   "execution_count": 22,
   "metadata": {},
   "outputs": [
    {
     "name": "stdout",
     "output_type": "stream",
     "text": [
      "Enter n: 49\n",
      "1\n",
      "7\n",
      "49\n"
     ]
    }
   ],
   "source": [
    "n = eval(input(\"Enter n: \"))\n",
    "for num in range(1,n+1):\n",
    "    if (n%num==0):\n",
    "        print(num)"
   ]
  },
  {
   "cell_type": "markdown",
   "metadata": {},
   "source": [
    "## Excercise 3.30 >"
   ]
  },
  {
   "cell_type": "code",
   "execution_count": 23,
   "metadata": {},
   "outputs": [
    {
     "name": "stdout",
     "output_type": "stream",
     "text": [
      "Enter first number: 4.5\n",
      "Enter second number: 3\n",
      "Enter third number: 3\n",
      "Enter fourth number: 3.5\n",
      "Equal\n"
     ]
    }
   ],
   "source": [
    "x = eval(input(\"Enter first number: \"))\n",
    "y = eval(input(\"Enter second number: \"))\n",
    "o = eval(input(\"Enter third number: \"))\n",
    "p = eval(input(\"Enter fourth number: \"))\n",
    "v = (x+y+o)/3\n",
    "if v == p:\n",
    "    print(\"Equal\")"
   ]
  },
  {
   "cell_type": "markdown",
   "metadata": {},
   "source": [
    "## Excercise 3.31 >"
   ]
  },
  {
   "cell_type": "code",
   "execution_count": 24,
   "metadata": {},
   "outputs": [
    {
     "name": "stdout",
     "output_type": "stream",
     "text": [
      "Enter x: 2.5\n",
      "Enter y: 4\n",
      "It is in!\n"
     ]
    }
   ],
   "source": [
    "x = eval(input(\"Enter x: \"))\n",
    "y = eval(input(\"Enter y: \"))\n",
    "if ((x**2)+(y**2)) < 64:\n",
    "    print(\"It is in!\")"
   ]
  },
  {
   "cell_type": "markdown",
   "metadata": {},
   "source": [
    "## Excercise 3.32 >"
   ]
  },
  {
   "cell_type": "code",
   "execution_count": 25,
   "metadata": {},
   "outputs": [
    {
     "name": "stdout",
     "output_type": "stream",
     "text": [
      "Enter n: 1234\n",
      "1\n",
      "2\n",
      "3\n",
      "4\n"
     ]
    }
   ],
   "source": [
    "v = int(input(\"Enter n: \"))\n",
    "last_v = (v%10)\n",
    "first_v = (last_v-3)\n",
    "for i in range(first_v,last_v+1):\n",
    "    print(i)"
   ]
  },
  {
   "cell_type": "markdown",
   "metadata": {},
   "source": [
    "## Excercise 3.33 >"
   ]
  },
  {
   "cell_type": "code",
   "execution_count": 26,
   "metadata": {},
   "outputs": [
    {
     "name": "stdout",
     "output_type": "stream",
     "text": [
      "and\n"
     ]
    }
   ],
   "source": [
    "def reverse_string(s):\n",
    "    res = \"\"\n",
    "    for i in s:\n",
    "        res = i+res\n",
    "    return res\n",
    "print(reverse_string(\"dna\"))"
   ]
  },
  {
   "cell_type": "markdown",
   "metadata": {},
   "source": [
    "## Excercise 3.34 >"
   ]
  },
  {
   "cell_type": "code",
   "execution_count": 28,
   "metadata": {},
   "outputs": [
    {
     "name": "stdout",
     "output_type": "stream",
     "text": [
      "350\n"
     ]
    }
   ],
   "source": [
    "def pay(hw,nh):\n",
    "    if nh > 40:\n",
    "        res = (nh*hw)*1.5\n",
    "    else:\n",
    "        res = (nh*hw)\n",
    "    return res\n",
    "print(pay(10,35))"
   ]
  },
  {
   "cell_type": "markdown",
   "metadata": {},
   "source": [
    "## Excercise 3.35 >"
   ]
  },
  {
   "cell_type": "code",
   "execution_count": 29,
   "metadata": {},
   "outputs": [
    {
     "name": "stdout",
     "output_type": "stream",
     "text": [
      "0.25\n"
     ]
    }
   ],
   "source": [
    "def prob(n):\n",
    "    res = 2**(-n)\n",
    "    return res\n",
    "print(prob(2))"
   ]
  },
  {
   "cell_type": "markdown",
   "metadata": {},
   "source": [
    "## Excercise 3.36 >"
   ]
  },
  {
   "cell_type": "code",
   "execution_count": 31,
   "metadata": {},
   "outputs": [
    {
     "name": "stdout",
     "output_type": "stream",
     "text": [
      "221\n"
     ]
    }
   ],
   "source": [
    "def reverse_int(n):\n",
    "    if (n%10)!=0:\n",
    "        rev = 0\n",
    "        for num in range(3):\n",
    "            last = n%10\n",
    "            rev = (rev*10)+last\n",
    "            n = n//10\n",
    "    else:\n",
    "        rev = \"Last digit can not be zero!\"\n",
    "    return rev\n",
    "     \n",
    "print(reverse_int(122))"
   ]
  },
  {
   "cell_type": "markdown",
   "metadata": {},
   "source": [
    "## Excercise 3.37 >"
   ]
  },
  {
   "cell_type": "code",
   "execution_count": 33,
   "metadata": {},
   "outputs": [
    {
     "name": "stdout",
     "output_type": "stream",
     "text": [
      "The slope is infinity and the distance is 0.0\n",
      "\n"
     ]
    }
   ],
   "source": [
    "from math import sqrt\n",
    "def points(x1,y1,x2,y2):\n",
    "    d = sqrt(((x2-x1)**2)+((y2-y1)**2))\n",
    "    if (x2!=0) and (y2>0):\n",
    "        m = (y2-y1)/(x2-x1)\n",
    "        print(\"The slope is\",str(m),\"and the distance is\",str(d))\n",
    "        print()\n",
    "    else:\n",
    "        print(\"The slope is infinity and the distance is\",str(d))\n",
    "    return \"\"    \n",
    "    \n",
    "print(points(0,0,0,0))"
   ]
  },
  {
   "cell_type": "markdown",
   "metadata": {},
   "source": [
    "## Excercise 3.38 >"
   ]
  },
  {
   "cell_type": "code",
   "execution_count": 34,
   "metadata": {},
   "outputs": [
    {
     "name": "stdout",
     "output_type": "stream",
     "text": [
      "Tu\n"
     ]
    }
   ],
   "source": [
    "def abbreviatoin(s):\n",
    "    return s[:2]\n",
    "print(abbreviatoin(\"Tuesday\"))"
   ]
  },
  {
   "cell_type": "markdown",
   "metadata": {},
   "source": [
    "## Excercise 3.39 >"
   ]
  },
  {
   "cell_type": "code",
   "execution_count": 35,
   "metadata": {},
   "outputs": [
    {
     "name": "stdout",
     "output_type": "stream",
     "text": [
      "True\n"
     ]
    }
   ],
   "source": [
    "from math import sqrt\n",
    "def collision(x1,y1,r1,x2,y2,r2):\n",
    "    d = sqrt(((x2-x1)**2)+((y2-y1)**2))\n",
    "    if ((r1-r2)<d<(r1+r2)):\n",
    "        res = \"True\"\n",
    "    else:\n",
    "        res = \"False\"\n",
    "    return res\n",
    "print(collision(0,0,3,0,5,3))"
   ]
  },
  {
   "cell_type": "markdown",
   "metadata": {},
   "source": [
    "## Excercise 3.40 >"
   ]
  },
  {
   "cell_type": "code",
   "execution_count": 36,
   "metadata": {},
   "outputs": [
    {
     "name": "stdout",
     "output_type": "stream",
     "text": [
      "Eleanor\n",
      "Evelyn\n",
      "Gavin\n",
      "\n"
     ]
    }
   ],
   "source": [
    "def partition(lst):\n",
    "    for s in lst:\n",
    "        if s < 'N':\n",
    "            print(s)\n",
    "    return \"\"\n",
    "print(partition(['Eleanor','Evelyn','Sammy','Owen','Gavin']))"
   ]
  },
  {
   "cell_type": "markdown",
   "metadata": {},
   "source": [
    "## Excercise 3.41 >"
   ]
  },
  {
   "cell_type": "code",
   "execution_count": 37,
   "metadata": {},
   "outputs": [
    {
     "name": "stdout",
     "output_type": "stream",
     "text": [
      "('Camus', 'B.')\n"
     ]
    }
   ],
   "source": [
    "def lastF(f,l):\n",
    "    return l,f[0]+\".\"\n",
    "print(lastF('Bert','Camus'))"
   ]
  },
  {
   "cell_type": "markdown",
   "metadata": {},
   "source": [
    "## Excercise 3.42 >"
   ]
  },
  {
   "cell_type": "code",
   "execution_count": 48,
   "metadata": {},
   "outputs": [
    {
     "name": "stdout",
     "output_type": "stream",
     "text": [
      "90.0\n",
      "60.0\n",
      "87.0\n",
      "11.0\n"
     ]
    }
   ],
   "source": [
    "def avg(l1,l2,l3,l4):\n",
    "    print(sum(l1)/len(l1))\n",
    "    print(sum(l2)/len(l2))\n",
    "    print(sum(l3)/len(l3))\n",
    "    print(sum(l4)/len(l4))\n",
    "avg([95,92,86,87],[66,54],[89,72,100],[33,0,0])"
   ]
  },
  {
   "cell_type": "markdown",
   "metadata": {},
   "source": [
    "## Excercise 3.43 >"
   ]
  },
  {
   "cell_type": "code",
   "execution_count": 58,
   "metadata": {},
   "outputs": [
    {
     "name": "stdout",
     "output_type": "stream",
     "text": [
      "True\n"
     ]
    }
   ],
   "source": [
    "def hit(x1,y1,r,x2,y2):\n",
    "    \n",
    "    if ((x1-x2)**2)+((y1-y2)**2)<(r**2) or ((x1-x2)**2)+((y1-y2)**2) == (r**2):\n",
    "        print(\"True\")\n",
    "    else:\n",
    "        print(\"False\")\n",
    "    return \n",
    "hit(0,0,3,3,0)   "
   ]
  },
  {
   "cell_type": "markdown",
   "metadata": {},
   "source": [
    "## Excercise 3.44 >"
   ]
  },
  {
   "cell_type": "code",
   "execution_count": 59,
   "metadata": {},
   "outputs": [
    {
     "data": {
      "text/plain": [
       "1.0208700000000002"
      ]
     },
     "execution_count": 59,
     "metadata": {},
     "output_type": "execute_result"
    }
   ],
   "source": [
    "def distance(n):\n",
    "    return (n*340.29)/1000\n",
    "distance(3)"
   ]
  },
  {
   "cell_type": "code",
   "execution_count": null,
   "metadata": {},
   "outputs": [],
   "source": []
  }
 ],
 "metadata": {
  "kernelspec": {
   "display_name": "Python 3",
   "language": "python",
   "name": "python3"
  },
  "language_info": {
   "codemirror_mode": {
    "name": "ipython",
    "version": 3
   },
   "file_extension": ".py",
   "mimetype": "text/x-python",
   "name": "python",
   "nbconvert_exporter": "python",
   "pygments_lexer": "ipython3",
   "version": "3.7.3"
  }
 },
 "nbformat": 4,
 "nbformat_minor": 2
}
